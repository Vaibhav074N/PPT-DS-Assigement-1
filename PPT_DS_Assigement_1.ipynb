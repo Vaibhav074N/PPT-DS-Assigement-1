{
  "nbformat": 4,
  "nbformat_minor": 0,
  "metadata": {
    "colab": {
      "provenance": [],
      "authorship_tag": "ABX9TyPFhVWoLxhn1bGztgQztsso",
      "include_colab_link": true
    },
    "kernelspec": {
      "name": "python3",
      "display_name": "Python 3"
    },
    "language_info": {
      "name": "python"
    }
  },
  "cells": [
    {
      "cell_type": "markdown",
      "metadata": {
        "id": "view-in-github",
        "colab_type": "text"
      },
      "source": [
        "<a href=\"https://colab.research.google.com/github/Vaibhav074N/PPT-DS-Assigement-1/blob/main/PPT_DS_Assigement_1.ipynb\" target=\"_parent\"><img src=\"https://colab.research.google.com/assets/colab-badge.svg\" alt=\"Open In Colab\"/></a>"
      ]
    },
    {
      "cell_type": "markdown",
      "source": [
        "1. Write a Python program to reverse a string without using any built-in string reversal functions."
      ],
      "metadata": {
        "id": "-JbAo0Caq1-Q"
      }
    },
    {
      "cell_type": "code",
      "source": [
        "def reverse(s):\n",
        "  s=list(s)\n",
        "  i=0\n",
        "  j=len(s)-1\n",
        "  while i<j:\n",
        "    s[i],s[j]=s[j],s[i]\n",
        "    i += 1\n",
        "    j -= 1\n",
        "\n",
        "  return \"\".join(s)\n",
        "\n",
        "s=\"Hello Word\"\n",
        "print(reverse(s))"
      ],
      "metadata": {
        "colab": {
          "base_uri": "https://localhost:8080/"
        },
        "id": "lGBb4tPbrA4i",
        "outputId": "a807fc8d-b26a-4b3c-ab73-0bd6fd9bd501"
      },
      "execution_count": null,
      "outputs": [
        {
          "output_type": "stream",
          "name": "stdout",
          "text": [
            "droW olleH\n"
          ]
        }
      ]
    },
    {
      "cell_type": "code",
      "source": [],
      "metadata": {
        "id": "ft29hwrvsXST"
      },
      "execution_count": null,
      "outputs": []
    },
    {
      "cell_type": "markdown",
      "source": [
        "2. Implement a function to check if a given string is a palindrome."
      ],
      "metadata": {
        "id": "UHt_L65iq107"
      }
    },
    {
      "cell_type": "code",
      "source": [
        "def pali(s):\n",
        "  n=len(s)\n",
        "  i=0\n",
        "  j=n-1\n",
        "  while i <= j:\n",
        "      if s[i]==s[j]:\n",
        "        i += 1\n",
        "        j -= 1\n",
        "      else:\n",
        "          return \"Not a palindrome\"\n",
        "  return \"It's a palindrome\"\n",
        "\n",
        "s='aabbbaa'\n",
        "print(pali(s))"
      ],
      "metadata": {
        "colab": {
          "base_uri": "https://localhost:8080/"
        },
        "id": "PIywX4_sq1ER",
        "outputId": "42967634-2cbb-4bd2-f0fe-2b14ed3de3c9"
      },
      "execution_count": null,
      "outputs": [
        {
          "output_type": "stream",
          "name": "stdout",
          "text": [
            "It's a palindrome\n"
          ]
        }
      ]
    },
    {
      "cell_type": "code",
      "source": [],
      "metadata": {
        "id": "e3xlkKuFyG4q"
      },
      "execution_count": null,
      "outputs": []
    },
    {
      "cell_type": "markdown",
      "source": [
        "3. Write a program to find the largest element in a given list."
      ],
      "metadata": {
        "id": "b98D_nMosd35"
      }
    },
    {
      "cell_type": "code",
      "execution_count": null,
      "metadata": {
        "colab": {
          "base_uri": "https://localhost:8080/"
        },
        "id": "Qc-SbAt3QynS",
        "outputId": "90099944-c289-49ea-9b8b-28c6dbf4d6d1"
      },
      "outputs": [
        {
          "output_type": "stream",
          "name": "stdout",
          "text": [
            "5\n"
          ]
        }
      ],
      "source": [
        "def largest(l):\n",
        "  n=len(l)\n",
        "  for i in range(n-1):\n",
        "    if l[i]>l[i+1]:\n",
        "      l[i],l[i+1]=l[i+1],l[i]\n",
        "    else:\n",
        "      i += 1\n",
        "  return l[n-1]\n",
        "\n",
        "l=[4,2,3,5]\n",
        "print(largest(l))"
      ]
    },
    {
      "cell_type": "code",
      "source": [],
      "metadata": {
        "id": "FpJY60Jv08S8"
      },
      "execution_count": null,
      "outputs": []
    },
    {
      "cell_type": "markdown",
      "source": [
        "4. Implement a function to count the occurrence of each element in a list."
      ],
      "metadata": {
        "id": "ppX-2zC4yaOl"
      }
    },
    {
      "cell_type": "code",
      "source": [
        "def count_occurrences(lst):\n",
        "    counts = {}\n",
        "\n",
        "    for element in lst:\n",
        "        if element in counts:\n",
        "            counts[element] += 1\n",
        "        else:\n",
        "            counts[element] = 1\n",
        "\n",
        "    return counts\n",
        "\n",
        "my_list = [1, 2, 3, 2, 1, 3, 3, 4, 5, 4, 4]\n",
        "result = count_occurrences(my_list)\n",
        "print(result)"
      ],
      "metadata": {
        "colab": {
          "base_uri": "https://localhost:8080/"
        },
        "id": "emdY1Jj2yapd",
        "outputId": "db6e611c-a006-4130-c35f-f4bb9f5b9702"
      },
      "execution_count": null,
      "outputs": [
        {
          "output_type": "stream",
          "name": "stdout",
          "text": [
            "{1: 2, 2: 2, 3: 3, 4: 3, 5: 1}\n"
          ]
        }
      ]
    },
    {
      "cell_type": "code",
      "source": [],
      "metadata": {
        "id": "7E-zJF3L3EIw"
      },
      "execution_count": null,
      "outputs": []
    },
    {
      "cell_type": "markdown",
      "source": [
        "5. Write a Python program to find the second largest number in a list."
      ],
      "metadata": {
        "id": "qWPUf5BwybFE"
      }
    },
    {
      "cell_type": "code",
      "source": [
        "def sec_largest(l):\n",
        "  n=len(l)\n",
        "  for i in range(n-1):\n",
        "    if l[i]>l[i+1]:\n",
        "      l[i],l[i+1]=l[i+1],l[i]\n",
        "    else:\n",
        "      i += 1\n",
        "  return l[n-2]\n",
        "\n",
        "l=[1,2,3,7,3,8]\n",
        "print(sec_largest(l))"
      ],
      "metadata": {
        "colab": {
          "base_uri": "https://localhost:8080/"
        },
        "id": "NcoEfpyFybgl",
        "outputId": "77b63e76-7eab-4a01-a617-32a3db2c29eb"
      },
      "execution_count": null,
      "outputs": [
        {
          "output_type": "stream",
          "name": "stdout",
          "text": [
            "7\n"
          ]
        }
      ]
    },
    {
      "cell_type": "code",
      "source": [],
      "metadata": {
        "id": "pV87VU2v3ywA"
      },
      "execution_count": null,
      "outputs": []
    },
    {
      "cell_type": "markdown",
      "source": [
        "6. Implement a function to remove duplicate elements from a list."
      ],
      "metadata": {
        "id": "GaKEnyCF3yLq"
      }
    },
    {
      "cell_type": "code",
      "source": [
        "def remove_dup(l):\n",
        "  ans=[]\n",
        "  for i in l:\n",
        "    if i not in ans:\n",
        "      ans.append(i)\n",
        "  return ans\n",
        "\n",
        "l=[1,2,1,3,2,1,4,2]\n",
        "print(remove_dup(l))"
      ],
      "metadata": {
        "colab": {
          "base_uri": "https://localhost:8080/"
        },
        "id": "EJLC8wJ64BMy",
        "outputId": "e8aff439-933f-47c8-8d4b-04d2ff8cd8a5"
      },
      "execution_count": null,
      "outputs": [
        {
          "output_type": "stream",
          "name": "stdout",
          "text": [
            "[1, 2, 3, 4]\n"
          ]
        }
      ]
    },
    {
      "cell_type": "code",
      "source": [],
      "metadata": {
        "id": "capknnv84A4D"
      },
      "execution_count": null,
      "outputs": []
    },
    {
      "cell_type": "markdown",
      "source": [
        "7. Write a program to calculate the factorial of a given number."
      ],
      "metadata": {
        "id": "Hck3rKar4CJu"
      }
    },
    {
      "cell_type": "code",
      "source": [
        "def fact(n):\n",
        "  if n==0 or n==1:\n",
        "    return 1\n",
        "  else:\n",
        "    return n * fact(n-1)\n",
        "\n",
        "n=5\n",
        "print(fact(n))"
      ],
      "metadata": {
        "colab": {
          "base_uri": "https://localhost:8080/"
        },
        "id": "o83EpBrd4Cq7",
        "outputId": "0ce86c1c-fa19-4df0-8bd3-03a58824bcff"
      },
      "execution_count": null,
      "outputs": [
        {
          "output_type": "stream",
          "name": "stdout",
          "text": [
            "120\n"
          ]
        }
      ]
    },
    {
      "cell_type": "code",
      "source": [],
      "metadata": {
        "id": "om9IVz1V70cU"
      },
      "execution_count": null,
      "outputs": []
    },
    {
      "cell_type": "markdown",
      "source": [
        "8. Implement a function to check if a given number is prime."
      ],
      "metadata": {
        "id": "BVyY_NWP75sE"
      }
    },
    {
      "cell_type": "code",
      "source": [
        "def is_prime(num):\n",
        "    if num < 2:\n",
        "        return False\n",
        "    for i in range(2, int(num ** 0.5) + 1):\n",
        "        if num % i == 0:\n",
        "            return False\n",
        "    return True\n",
        "\n",
        "num = int(input(\"Enter a number to check if it is prime: \"))\n",
        "if is_prime(num):\n",
        "    print(f\"{num} is a prime number.\")\n",
        "else:\n",
        "    print(f\"{num} is not a prime number.\")"
      ],
      "metadata": {
        "colab": {
          "base_uri": "https://localhost:8080/"
        },
        "id": "CqrDj0o-72mF",
        "outputId": "c0e9b2e8-a679-4df3-e74b-d7c9cbb9b89e"
      },
      "execution_count": null,
      "outputs": [
        {
          "output_type": "stream",
          "name": "stdout",
          "text": [
            "Enter a number to check if it is prime: 11\n",
            "11 is a prime number.\n"
          ]
        }
      ]
    },
    {
      "cell_type": "code",
      "source": [],
      "metadata": {
        "id": "7wW_SeWi72Jl"
      },
      "execution_count": null,
      "outputs": []
    },
    {
      "cell_type": "markdown",
      "source": [
        "9. Write a Python program to sort a list of integers in ascending order."
      ],
      "metadata": {
        "id": "K_mAWqtG-WxX"
      }
    },
    {
      "cell_type": "code",
      "source": [
        "def asc(l):\n",
        "  n=len(l)\n",
        "  for i in range(n-1):\n",
        "    if l[i]>l[i+1]:\n",
        "      l[i],l[i+1]=l[i+1],l[i]\n",
        "    else:\n",
        "      i += 1\n",
        "  return l\n",
        "\n",
        "l=[4,2,3,5]\n",
        "print(asc(l))"
      ],
      "metadata": {
        "colab": {
          "base_uri": "https://localhost:8080/"
        },
        "id": "0MuFXHM372Ae",
        "outputId": "673ed737-b49f-42fe-b7e2-9740518ee4ce"
      },
      "execution_count": null,
      "outputs": [
        {
          "output_type": "stream",
          "name": "stdout",
          "text": [
            "[2, 3, 4, 5]\n"
          ]
        }
      ]
    },
    {
      "cell_type": "code",
      "source": [],
      "metadata": {
        "id": "11nj24jC71op"
      },
      "execution_count": null,
      "outputs": []
    },
    {
      "cell_type": "markdown",
      "source": [
        "10. Implement a function to find the sum of all numbers in a list."
      ],
      "metadata": {
        "id": "uYzVNDrT-1_B"
      }
    },
    {
      "cell_type": "code",
      "source": [
        "def sum(l):\n",
        "  sum=0\n",
        "  for i in l:\n",
        "    sum += i\n",
        "  return sum\n",
        "\n",
        "l=[1,2,3,4,5]\n",
        "print(sum(l))"
      ],
      "metadata": {
        "colab": {
          "base_uri": "https://localhost:8080/"
        },
        "id": "7Vhb8339-2Xr",
        "outputId": "8e1c5a6d-a788-494f-a09a-d1cb512919f6"
      },
      "execution_count": null,
      "outputs": [
        {
          "output_type": "stream",
          "name": "stdout",
          "text": [
            "15\n"
          ]
        }
      ]
    },
    {
      "cell_type": "code",
      "source": [
        "sum_of_all = lambda x:sum(x)\n",
        "\n",
        "sum_of_all([1,2,3,4,5])"
      ],
      "metadata": {
        "colab": {
          "base_uri": "https://localhost:8080/"
        },
        "id": "i2tjNvNo-3Fg",
        "outputId": "dd75418a-197a-4d20-9fa2-c26d31066d14"
      },
      "execution_count": null,
      "outputs": [
        {
          "output_type": "execute_result",
          "data": {
            "text/plain": [
              "15"
            ]
          },
          "metadata": {},
          "execution_count": 54
        }
      ]
    },
    {
      "cell_type": "code",
      "source": [],
      "metadata": {
        "id": "pK5ipSU1-3B7"
      },
      "execution_count": null,
      "outputs": []
    },
    {
      "cell_type": "markdown",
      "source": [
        "11. Write a program to find the common elements between two lists."
      ],
      "metadata": {
        "id": "ActeZrPxAdLf"
      }
    },
    {
      "cell_type": "code",
      "source": [
        "def comon(l1,l2):\n",
        "  ans=[]\n",
        "  for i in l1:\n",
        "    if i in l2:\n",
        "      ans.append(i)\n",
        "\n",
        "  return ans\n",
        "\n",
        "l1=[1,2,3,4]\n",
        "l2=[2,4,8,6]\n",
        "print(comon(l1,l2))"
      ],
      "metadata": {
        "colab": {
          "base_uri": "https://localhost:8080/"
        },
        "id": "PZtCghZz-2-7",
        "outputId": "f5bfb6c9-630a-4b39-a68e-204787a0e13d"
      },
      "execution_count": null,
      "outputs": [
        {
          "output_type": "stream",
          "name": "stdout",
          "text": [
            "[2, 4]\n"
          ]
        }
      ]
    },
    {
      "cell_type": "code",
      "source": [],
      "metadata": {
        "id": "y5rljT4--27v"
      },
      "execution_count": null,
      "outputs": []
    },
    {
      "cell_type": "markdown",
      "source": [
        "12. Implement a function to check if a given string is an anagram of another string."
      ],
      "metadata": {
        "id": "TtCxbnYDBVXx"
      }
    },
    {
      "cell_type": "code",
      "source": [
        "def anagram(s1,s2):\n",
        "\n",
        "  for i in s1:\n",
        "    if i in s2:\n",
        "      continue\n",
        "    else:\n",
        "      return \"Not anagram\"\n",
        "  return \"It's Anagram\"\n",
        "\n",
        "s1='evil'\n",
        "s2='vile'\n",
        "print(anagram(s1,s2))"
      ],
      "metadata": {
        "colab": {
          "base_uri": "https://localhost:8080/"
        },
        "id": "3DjlSrF1-221",
        "outputId": "b64e7cba-6023-4f85-895e-4444b456e9a3"
      },
      "execution_count": null,
      "outputs": [
        {
          "output_type": "stream",
          "name": "stdout",
          "text": [
            "It's Anagram\n"
          ]
        }
      ]
    },
    {
      "cell_type": "code",
      "source": [],
      "metadata": {
        "id": "qw86LQ__-2zl"
      },
      "execution_count": null,
      "outputs": []
    },
    {
      "cell_type": "markdown",
      "source": [
        "13. Write a Python program to generate all permutations of a given string."
      ],
      "metadata": {
        "id": "UrBj6GgpDFk1"
      }
    },
    {
      "cell_type": "code",
      "source": [
        "def get_permutations(string):\n",
        "    if len(string) == 1:\n",
        "        return [string]\n",
        "\n",
        "    permutations = []\n",
        "\n",
        "    for i in range(len(string)):\n",
        "        current_char = string[i]\n",
        "        remaining_chars = string[:i] + string[i+1:]\n",
        "        remaining_permutations = get_permutations(remaining_chars)\n",
        "\n",
        "        for permutation in remaining_permutations:\n",
        "            permutations.append(current_char + permutation)\n",
        "\n",
        "    return permutations\n",
        "\n",
        "string = \"abc\"\n",
        "permutations = get_permutations(string)\n",
        "print(permutations)"
      ],
      "metadata": {
        "colab": {
          "base_uri": "https://localhost:8080/"
        },
        "id": "w7YipbpzDF7q",
        "outputId": "ba6da8c8-1400-4c50-c81b-721e22587ca2"
      },
      "execution_count": null,
      "outputs": [
        {
          "output_type": "stream",
          "name": "stdout",
          "text": [
            "['abc', 'acb', 'bac', 'bca', 'cab', 'cba']\n"
          ]
        }
      ]
    },
    {
      "cell_type": "code",
      "source": [],
      "metadata": {
        "id": "62HFBGu7DGvl"
      },
      "execution_count": null,
      "outputs": []
    },
    {
      "cell_type": "markdown",
      "source": [
        "14. Implement a function to calculate the Fibonacci sequence up to a given number of terms."
      ],
      "metadata": {
        "id": "7JTgpfQTEm0O"
      }
    },
    {
      "cell_type": "code",
      "source": [
        "def fibonacci(n):\n",
        "    sequence = []\n",
        "    a, b = 0, 1\n",
        "    for _ in range(n):\n",
        "        sequence.append(a)\n",
        "        a, b = b, a + b\n",
        "\n",
        "    return sequence\n",
        "\n",
        "n = 10\n",
        "fib_sequence = fibonacci(n)\n",
        "print(fib_sequence)"
      ],
      "metadata": {
        "colab": {
          "base_uri": "https://localhost:8080/"
        },
        "id": "mNJuQQuRDGsL",
        "outputId": "0c0be2a8-78f4-4956-9a39-5514fa43d4bb"
      },
      "execution_count": null,
      "outputs": [
        {
          "output_type": "stream",
          "name": "stdout",
          "text": [
            "[0, 1, 1, 2, 3, 5, 8, 13, 21, 34]\n"
          ]
        }
      ]
    },
    {
      "cell_type": "code",
      "source": [],
      "metadata": {
        "id": "TbmKtbFpDGpU"
      },
      "execution_count": null,
      "outputs": []
    },
    {
      "cell_type": "markdown",
      "source": [
        "15. Write a program to find the median of a list of numbers."
      ],
      "metadata": {
        "id": "YDM3lYIzFzhm"
      }
    },
    {
      "cell_type": "code",
      "source": [
        "def median(l):\n",
        "  l.sort()\n",
        "  n=len(l)\n",
        "  mid_indx=n//2\n",
        "  if n%2==1:\n",
        "    return l[mid_indx]\n",
        "  else:\n",
        "    return (l[mid_indx] + l[mid_indx-1]) / 2\n",
        "\n",
        "numbers = [5, 2, 9, 1, 7]\n",
        "print(\"Median:\", median(numbers))"
      ],
      "metadata": {
        "colab": {
          "base_uri": "https://localhost:8080/"
        },
        "id": "SCDhMbpADGlu",
        "outputId": "f9796dfc-96b5-4a66-c6ae-bbec21292ae3"
      },
      "execution_count": null,
      "outputs": [
        {
          "output_type": "stream",
          "name": "stdout",
          "text": [
            "Median: 5\n"
          ]
        }
      ]
    },
    {
      "cell_type": "code",
      "source": [],
      "metadata": {
        "id": "6ICqBsMxDGf1"
      },
      "execution_count": null,
      "outputs": []
    },
    {
      "cell_type": "markdown",
      "source": [
        "16. Implement a function to check if a given list is sorted in non-decreasing order."
      ],
      "metadata": {
        "id": "HAOnWVpkJmJb"
      }
    },
    {
      "cell_type": "code",
      "source": [
        "def non_dec(l):\n",
        "  for i in range(len(l)-1):\n",
        "    if l[i]>l[i+1]:\n",
        "      return \"Not a Sorted list\"\n",
        "    else:\n",
        "      i += 1\n",
        "  return \"non-Decreasing list\"\n",
        "\n",
        "l=[1,4,6,8]\n",
        "print(non_dec(l))"
      ],
      "metadata": {
        "colab": {
          "base_uri": "https://localhost:8080/"
        },
        "id": "F_Mj3OCJJmkj",
        "outputId": "27f15dc7-f76d-4d53-9dfd-0aebce74ec74"
      },
      "execution_count": null,
      "outputs": [
        {
          "output_type": "stream",
          "name": "stdout",
          "text": [
            "non-Decreasing list\n"
          ]
        }
      ]
    },
    {
      "cell_type": "code",
      "source": [],
      "metadata": {
        "id": "Y_2bzOcHJnOv"
      },
      "execution_count": null,
      "outputs": []
    },
    {
      "cell_type": "markdown",
      "source": [
        "17. Write a Python program to find the intersection of two lists."
      ],
      "metadata": {
        "id": "gd9ebTcqLhIo"
      }
    },
    {
      "cell_type": "code",
      "source": [
        "def find_intersection(list1, list2):\n",
        "    set1 = set(list1)\n",
        "    set2 = set(list2)\n",
        "    intersection = list(set1.intersection(set2))\n",
        "    return intersection\n",
        "\n",
        "list1 = [1, 2, 3, 4, 5]\n",
        "list2 = [4, 5, 6, 7, 8]\n",
        "intersection = find_intersection(list1, list2)\n",
        "print(intersection)"
      ],
      "metadata": {
        "colab": {
          "base_uri": "https://localhost:8080/"
        },
        "id": "b4zk36vMJnLS",
        "outputId": "4c312af0-9d56-446d-e8f9-05d5483e9392"
      },
      "execution_count": null,
      "outputs": [
        {
          "output_type": "stream",
          "name": "stdout",
          "text": [
            "[4, 5]\n"
          ]
        }
      ]
    },
    {
      "cell_type": "code",
      "source": [],
      "metadata": {
        "id": "LrCogu-QJnDX"
      },
      "execution_count": null,
      "outputs": []
    },
    {
      "cell_type": "markdown",
      "source": [
        "18. Implement a function to find the maximum subarray sum in a given list."
      ],
      "metadata": {
        "id": "EZ_VuhWJL1yO"
      }
    },
    {
      "cell_type": "code",
      "source": [
        "def max_subarray_sum(nums):\n",
        "    max_sum = 0\n",
        "    current_sum = 0\n",
        "    for num in nums:\n",
        "        current_sum += num\n",
        "        if current_sum > max_sum:\n",
        "            max_sum = current_sum\n",
        "        if current_sum < 0:\n",
        "            current_sum = 0\n",
        "\n",
        "    return max_sum\n",
        "\n",
        "input_list = [-2, 1, -3, 4, -1, 2, 1, -5, 4]\n",
        "max_sum = max_subarray_sum(input_list)\n",
        "print(max_sum)"
      ],
      "metadata": {
        "colab": {
          "base_uri": "https://localhost:8080/"
        },
        "id": "0rV4rIeJL2N-",
        "outputId": "9257c64b-c39d-47c2-d459-cf055437813a"
      },
      "execution_count": null,
      "outputs": [
        {
          "output_type": "stream",
          "name": "stdout",
          "text": [
            "6\n"
          ]
        }
      ]
    },
    {
      "cell_type": "markdown",
      "source": [
        "19. Write a program to remove all vowels from a given string."
      ],
      "metadata": {
        "id": "cZaOuo9FMCa7"
      }
    },
    {
      "cell_type": "code",
      "source": [
        "def rem_vow(s):\n",
        "  s=s.lower()\n",
        "  vowels=\"aeiou\"\n",
        "  new_str=\"\"\n",
        "  for i in s:\n",
        "    if i not in vowels:\n",
        "      new_str += i\n",
        "  return new_str\n",
        "\n",
        "s='vaibhav'\n",
        "print(rem_vow(s))"
      ],
      "metadata": {
        "colab": {
          "base_uri": "https://localhost:8080/"
        },
        "id": "JnNoCwVdL2mf",
        "outputId": "194086ed-3d24-4a3e-a231-ba0280b6ef9b"
      },
      "execution_count": null,
      "outputs": [
        {
          "output_type": "stream",
          "name": "stdout",
          "text": [
            "vbhv\n"
          ]
        }
      ]
    },
    {
      "cell_type": "code",
      "source": [],
      "metadata": {
        "id": "9XAUJ2-CL3L9"
      },
      "execution_count": null,
      "outputs": []
    },
    {
      "cell_type": "markdown",
      "source": [
        "\n",
        "\n",
        "20. Implement a function to reverse the order of words in a given sentence.\n"
      ],
      "metadata": {
        "id": "zsK1-_euq8zU"
      }
    },
    {
      "cell_type": "code",
      "source": [
        "def reverse(word):\n",
        "  word=word.split()\n",
        "  res=word[::-1]\n",
        "\n",
        "  return \" \".join(res)\n",
        "\n",
        "s=\"hello word is my first program in python\"\n",
        "print(reverse(s))"
      ],
      "metadata": {
        "colab": {
          "base_uri": "https://localhost:8080/"
        },
        "id": "2o2GA9cJMHwi",
        "outputId": "47b8d973-dc64-4c1a-d98a-69c9c320459b"
      },
      "execution_count": null,
      "outputs": [
        {
          "output_type": "stream",
          "name": "stdout",
          "text": [
            "python in program first my is word hello\n"
          ]
        }
      ]
    },
    {
      "cell_type": "code",
      "source": [],
      "metadata": {
        "id": "cJ2pNfJ-Pjp-"
      },
      "execution_count": null,
      "outputs": []
    },
    {
      "cell_type": "markdown",
      "source": [
        "21. Write a Python program to check if two strings are anagrams of each other."
      ],
      "metadata": {
        "id": "WX3AbVK-RL2z"
      }
    },
    {
      "cell_type": "code",
      "source": [
        "def is_anagram(str1, str2):\n",
        "\n",
        "    str1 = str1.replace(\" \", \"\").lower()\n",
        "    str2 = str2.replace(\" \", \"\").lower()\n",
        "\n",
        "    sorted_str1 = sorted(str1)\n",
        "    sorted_str2 = sorted(str2)\n",
        "\n",
        "    return sorted_str1 == sorted_str2\n",
        "\n",
        "string1 = \"listen\"\n",
        "string2 = \"silent\"\n",
        "print(f\"Are '{string1}' and '{string2}' anagrams? {is_anagram(string1, string2)}\")"
      ],
      "metadata": {
        "colab": {
          "base_uri": "https://localhost:8080/"
        },
        "id": "wMF_6Bu1RQb9",
        "outputId": "86805b8f-cd61-4dd4-8109-36978a0925a7"
      },
      "execution_count": null,
      "outputs": [
        {
          "output_type": "stream",
          "name": "stdout",
          "text": [
            "Are 'listen' and 'silent' anagrams? True\n"
          ]
        }
      ]
    },
    {
      "cell_type": "code",
      "source": [],
      "metadata": {
        "id": "so0-wK4jRQYl"
      },
      "execution_count": null,
      "outputs": []
    },
    {
      "cell_type": "markdown",
      "source": [
        "22. Implement a function to find the first non-repeating character in a string."
      ],
      "metadata": {
        "id": "UUAtER1tUaJm"
      }
    },
    {
      "cell_type": "code",
      "source": [
        "def first_non_repeating_char(string):\n",
        "    char_count = {}\n",
        "\n",
        "    for char in string:\n",
        "        if char in char_count:\n",
        "            char_count[char] += 1\n",
        "        else:\n",
        "            char_count[char] = 1\n",
        "\n",
        "    for char in string:\n",
        "        if char_count[char] == 1:\n",
        "            return char\n",
        "\n",
        "    return None\n",
        "\n",
        "input_string = \"vaibhav\"\n",
        "output = first_non_repeating_char(input_string)\n",
        "print(output)"
      ],
      "metadata": {
        "colab": {
          "base_uri": "https://localhost:8080/"
        },
        "id": "ZptjWQhaRQVv",
        "outputId": "acc0d719-17c1-443f-8b71-4fba6cdc0556"
      },
      "execution_count": null,
      "outputs": [
        {
          "output_type": "stream",
          "name": "stdout",
          "text": [
            "i\n"
          ]
        }
      ]
    },
    {
      "cell_type": "code",
      "source": [],
      "metadata": {
        "id": "kymqi2RpRQSP"
      },
      "execution_count": null,
      "outputs": []
    },
    {
      "cell_type": "markdown",
      "source": [
        "23. Write a program to find the prime factors of a given number."
      ],
      "metadata": {
        "id": "-JQ_JqEEVQ3x"
      }
    },
    {
      "cell_type": "code",
      "source": [
        "def find_prime_factors(num):\n",
        "    factors = []\n",
        "    divisor = 2\n",
        "\n",
        "    while num > 1:\n",
        "        while num % divisor == 0:\n",
        "            factors.append(divisor)\n",
        "            num //= divisor\n",
        "        divisor += 1\n",
        "\n",
        "    return factors\n",
        "\n",
        "number = 36\n",
        "prime_factors = find_prime_factors(number)\n",
        "print(prime_factors)"
      ],
      "metadata": {
        "colab": {
          "base_uri": "https://localhost:8080/"
        },
        "id": "BnnTSvNfRQOl",
        "outputId": "7a40d0fe-2694-4e7a-cf89-765b3fe24370"
      },
      "execution_count": null,
      "outputs": [
        {
          "output_type": "stream",
          "name": "stdout",
          "text": [
            "[2, 2, 3, 3]\n"
          ]
        }
      ]
    },
    {
      "cell_type": "code",
      "source": [],
      "metadata": {
        "id": "S92LElg1RQBk"
      },
      "execution_count": null,
      "outputs": []
    },
    {
      "cell_type": "markdown",
      "source": [
        "24. Implement a function to check if a given number is a power of two."
      ],
      "metadata": {
        "id": "Lv_T5onAtQI2"
      }
    },
    {
      "cell_type": "code",
      "source": [
        "def is_power_of_two(num):\n",
        "    if num <= 0:\n",
        "        return False\n",
        "    return (num & (num - 1)) == 0\n",
        "\n",
        "number = 16\n",
        "print(is_power_of_two(number))"
      ],
      "metadata": {
        "colab": {
          "base_uri": "https://localhost:8080/"
        },
        "id": "VLNL0WNHtRqB",
        "outputId": "65f483ad-b7e7-42a3-d223-cc5196af1c42"
      },
      "execution_count": null,
      "outputs": [
        {
          "output_type": "stream",
          "name": "stdout",
          "text": [
            "True\n"
          ]
        }
      ]
    },
    {
      "cell_type": "code",
      "source": [],
      "metadata": {
        "id": "AmJIr6qKtRmW"
      },
      "execution_count": null,
      "outputs": []
    },
    {
      "cell_type": "markdown",
      "source": [
        "25. Write a Python program to merge two sorted lists into a single sorted list"
      ],
      "metadata": {
        "id": "mby1o-Ziu4kE"
      }
    },
    {
      "cell_type": "code",
      "source": [
        "def single(l1,l2):\n",
        "  l1.extend(l2)\n",
        "  n=len(l1)\n",
        "  for i in range(n-1):\n",
        "    if l1[i]>l1[i+1]:\n",
        "      l1[i],l1[i+1]=l1[i+1],l1[i]\n",
        "    else:\n",
        "      i += 1\n",
        "  return l1\n",
        "\n",
        "l1=[1,2,3,4]\n",
        "l2=[3,4,5,6,7,8]\n",
        "print(single(l1,l2))"
      ],
      "metadata": {
        "colab": {
          "base_uri": "https://localhost:8080/"
        },
        "id": "dfa1CIWztRdR",
        "outputId": "95048d20-0a9d-4f93-9cfa-5ea86a923625"
      },
      "execution_count": null,
      "outputs": [
        {
          "output_type": "stream",
          "name": "stdout",
          "text": [
            "[1, 2, 3, 3, 4, 4, 5, 6, 7, 8]\n"
          ]
        }
      ]
    },
    {
      "cell_type": "code",
      "source": [],
      "metadata": {
        "id": "qSDMqbVptRaK"
      },
      "execution_count": null,
      "outputs": []
    },
    {
      "cell_type": "markdown",
      "source": [
        "26. Implement a function to find the mode of a list of numbers."
      ],
      "metadata": {
        "id": "QNaIcXJUyBzd"
      }
    },
    {
      "cell_type": "code",
      "source": [
        "def mode(l):\n",
        "  hash={}\n",
        "  for i in l:\n",
        "    if i not in hash:\n",
        "      hash[i] = 1\n",
        "    else:\n",
        "      hash[i] += 1\n",
        "\n",
        "  for j in l:\n",
        "    if hash[j]==max(hash.values()):\n",
        "      return \"Mode is : {} \".format(j)\n",
        "\n",
        "l=[1,2,12,2,3,4,2,5,2,8]\n",
        "print(mode(l))"
      ],
      "metadata": {
        "colab": {
          "base_uri": "https://localhost:8080/"
        },
        "id": "g0IltJ8fyBXa",
        "outputId": "deb70ace-1289-415b-def9-eb80c60d96f1"
      },
      "execution_count": null,
      "outputs": [
        {
          "output_type": "stream",
          "name": "stdout",
          "text": [
            "Mode is : 2 \n"
          ]
        }
      ]
    },
    {
      "cell_type": "code",
      "source": [],
      "metadata": {
        "id": "iV7WcSbpyBUG"
      },
      "execution_count": null,
      "outputs": []
    },
    {
      "cell_type": "markdown",
      "source": [
        "27. Write a program to find the greatest common divisor (GCD) of two numbers."
      ],
      "metadata": {
        "id": "8YFY6IYg4oPR"
      }
    },
    {
      "cell_type": "code",
      "source": [
        "def gcd(a, b):\n",
        "    while b != 0:\n",
        "        a, b = b, a % b\n",
        "    return a\n",
        "\n",
        "print(gcd(54, 24))"
      ],
      "metadata": {
        "colab": {
          "base_uri": "https://localhost:8080/"
        },
        "id": "nCPggCz9yBQS",
        "outputId": "cfc9b033-c00e-4f5d-b4eb-a84416b7bc47"
      },
      "execution_count": null,
      "outputs": [
        {
          "output_type": "stream",
          "name": "stdout",
          "text": [
            "6\n"
          ]
        }
      ]
    },
    {
      "cell_type": "code",
      "source": [],
      "metadata": {
        "id": "zWBInnm_4ug5"
      },
      "execution_count": null,
      "outputs": []
    },
    {
      "cell_type": "markdown",
      "source": [
        "28. Implement a function to calculate the square root of a given number."
      ],
      "metadata": {
        "id": "RpqMi4BS7xVT"
      }
    },
    {
      "cell_type": "code",
      "source": [
        "def sq(n):\n",
        "  return int(n**0.5)\n",
        "\n",
        "print(sq(16))"
      ],
      "metadata": {
        "colab": {
          "base_uri": "https://localhost:8080/"
        },
        "id": "GWvf5ecW4uZv",
        "outputId": "12c66340-130a-4a3c-a197-f04609dc9225"
      },
      "execution_count": null,
      "outputs": [
        {
          "output_type": "stream",
          "name": "stdout",
          "text": [
            "4\n"
          ]
        }
      ]
    },
    {
      "cell_type": "code",
      "source": [
        "def square_root(x):\n",
        "    if x == 0:\n",
        "        return 0\n",
        "\n",
        "    left = 1\n",
        "    right = x\n",
        "    while left <= right:\n",
        "        mid = (left + right) // 2\n",
        "        if mid * mid == x:\n",
        "            return mid\n",
        "        elif mid * mid < x:\n",
        "            left = mid + 1\n",
        "        else:\n",
        "            right = mid - 1\n",
        "\n",
        "    return right\n",
        "\n",
        "print(square_root(10))"
      ],
      "metadata": {
        "colab": {
          "base_uri": "https://localhost:8080/"
        },
        "id": "5Cor7xa7yBMq",
        "outputId": "d789a1c2-7e99-49db-ea4c-2611c8f9ccc7"
      },
      "execution_count": null,
      "outputs": [
        {
          "output_type": "stream",
          "name": "stdout",
          "text": [
            "3\n"
          ]
        }
      ]
    },
    {
      "cell_type": "code",
      "source": [],
      "metadata": {
        "id": "qVeQWKCU9ysC"
      },
      "execution_count": null,
      "outputs": []
    },
    {
      "cell_type": "markdown",
      "source": [
        "29. Write a Python program to check if a given string is a valid palindrome ignoring non-alphanumeric characters."
      ],
      "metadata": {
        "id": "xG8fUGEG9z-G"
      }
    },
    {
      "cell_type": "code",
      "source": [
        "def is_valid_palindrome(s):\n",
        "\n",
        "    s = ''.join(c.lower() for c in s if c.isalnum())\n",
        "\n",
        "    return s == s[::-1]\n",
        "\n",
        "print(is_valid_palindrome(\"A man, a plan, a canal: Panama!\"))\n",
        "print(is_valid_palindrome(\"12321\"))\n",
        "print(is_valid_palindrome(\"Hello, World!\"))"
      ],
      "metadata": {
        "colab": {
          "base_uri": "https://localhost:8080/"
        },
        "id": "LoVq12YO9ylt",
        "outputId": "2ae09cd6-23c2-4163-d260-c097132d069e"
      },
      "execution_count": null,
      "outputs": [
        {
          "output_type": "stream",
          "name": "stdout",
          "text": [
            "True\n",
            "True\n",
            "False\n"
          ]
        }
      ]
    },
    {
      "cell_type": "code",
      "source": [],
      "metadata": {
        "id": "qc-AuXQV_6rI"
      },
      "execution_count": null,
      "outputs": []
    },
    {
      "cell_type": "markdown",
      "source": [
        "30. Implement a function to find the minimum element in a rotated sorted list."
      ],
      "metadata": {
        "id": "Cfu4abBB_7Gb"
      }
    },
    {
      "cell_type": "code",
      "source": [
        "def find_min(nums):\n",
        "    left = 0\n",
        "    right = len(nums) - 1\n",
        "\n",
        "    while left < right:\n",
        "        mid = left + (right - left) // 2\n",
        "\n",
        "        if nums[mid] > nums[right]:\n",
        "            left = mid + 1\n",
        "\n",
        "        elif nums[mid] < nums[right]:\n",
        "            right = mid\n",
        "\n",
        "        else:\n",
        "            right -= 1\n",
        "\n",
        "    return nums[left]\n",
        "\n",
        "nums = [4, 5, 6, 7, 0, 1, 2]\n",
        "print(find_min(nums))"
      ],
      "metadata": {
        "colab": {
          "base_uri": "https://localhost:8080/"
        },
        "id": "igjatzb99ygB",
        "outputId": "8f1f609c-a451-4795-8c21-5ad4b7e3d8ae"
      },
      "execution_count": null,
      "outputs": [
        {
          "output_type": "stream",
          "name": "stdout",
          "text": [
            "0\n"
          ]
        }
      ]
    },
    {
      "cell_type": "code",
      "source": [],
      "metadata": {
        "id": "KcbhProb9yc7"
      },
      "execution_count": null,
      "outputs": []
    },
    {
      "cell_type": "markdown",
      "source": [
        "\n",
        "31. Write a program to find the sum of all even numbers in a list."
      ],
      "metadata": {
        "id": "H0G9O9rTCpUe"
      }
    },
    {
      "cell_type": "code",
      "source": [
        "def sum_even(l):\n",
        "  sum=0\n",
        "  for i in l:\n",
        "    if i%2==0:\n",
        "      sum += i\n",
        "\n",
        "  return sum\n",
        "\n",
        "l=[1,2,3,4,5,6,7,8,9,10]\n",
        "print(sum_even(l))"
      ],
      "metadata": {
        "colab": {
          "base_uri": "https://localhost:8080/"
        },
        "id": "5jGVt_HBWhaR",
        "outputId": "98156d1c-7e58-495b-cd21-14e6dd7021a5"
      },
      "execution_count": null,
      "outputs": [
        {
          "output_type": "stream",
          "name": "stdout",
          "text": [
            "30\n"
          ]
        }
      ]
    },
    {
      "cell_type": "code",
      "source": [],
      "metadata": {
        "id": "Yo37SUBYWhQy"
      },
      "execution_count": null,
      "outputs": []
    },
    {
      "cell_type": "markdown",
      "source": [
        "32. Implement a function to calculate the power of a number using recursion."
      ],
      "metadata": {
        "id": "7SzyK-mQDxAs"
      }
    },
    {
      "cell_type": "code",
      "source": [
        "def power(base, exponent):\n",
        "\n",
        "    if exponent == 0:\n",
        "        return 1\n",
        "\n",
        "    return base * power(base, exponent - 1)\n",
        "\n",
        "base = 2\n",
        "exponent = 5\n",
        "result = power(base, exponent)\n",
        "print(f\"{base} raised to the power of {exponent} is: {result}\")"
      ],
      "metadata": {
        "colab": {
          "base_uri": "https://localhost:8080/"
        },
        "id": "fW3uEL_HWhFT",
        "outputId": "e2dc7fb4-b784-412d-db17-b66807b97506"
      },
      "execution_count": null,
      "outputs": [
        {
          "output_type": "stream",
          "name": "stdout",
          "text": [
            "2 raised to the power of 5 is: 32\n"
          ]
        }
      ]
    },
    {
      "cell_type": "code",
      "source": [],
      "metadata": {
        "id": "_z6aDpHOD2mz"
      },
      "execution_count": null,
      "outputs": []
    },
    {
      "cell_type": "markdown",
      "source": [
        "33. Write a Python program to remove duplicates from a list while preserving the order."
      ],
      "metadata": {
        "id": "1AeWT_T0ElRO"
      }
    },
    {
      "cell_type": "code",
      "source": [
        "def dup(l):\n",
        "  seen=set()\n",
        "  unique=[]\n",
        "  for i in l:\n",
        "    if i not in seen:\n",
        "      seen.add(i)\n",
        "      unique.append(i)\n",
        "\n",
        "  return unique\n",
        "\n",
        "l=[1,2,1,2,4,3]\n",
        "print(dup(l))"
      ],
      "metadata": {
        "colab": {
          "base_uri": "https://localhost:8080/"
        },
        "id": "ZRJXuyi0El1s",
        "outputId": "6e2694a1-4c95-4a0e-cb12-2c1326381a99"
      },
      "execution_count": null,
      "outputs": [
        {
          "output_type": "stream",
          "name": "stdout",
          "text": [
            "[1, 2, 4, 3]\n"
          ]
        }
      ]
    },
    {
      "cell_type": "code",
      "source": [],
      "metadata": {
        "id": "ID7n598TEmYJ"
      },
      "execution_count": null,
      "outputs": []
    },
    {
      "cell_type": "markdown",
      "source": [
        "\n",
        "34. Implement a function to find the longest common prefix among a list of strings.\n"
      ],
      "metadata": {
        "id": "7iT__iIFG1EM"
      }
    },
    {
      "cell_type": "code",
      "source": [
        "def longest_common_prefix(strs):\n",
        "    if not strs:\n",
        "        return \"\"\n",
        "\n",
        "    prefix = \"\"\n",
        "    for i in range(len(strs[0])):\n",
        "        char = strs[0][i]\n",
        "        for s in strs[1:]:\n",
        "            if i >= len(s) or s[i] != char:\n",
        "                return prefix\n",
        "        prefix += char\n",
        "\n",
        "    return prefix\n",
        "\n",
        "strings_list = [\"flower\", \"flow\", \"flight\"]\n",
        "result = longest_common_prefix(strings_list)\n",
        "print(result)"
      ],
      "metadata": {
        "colab": {
          "base_uri": "https://localhost:8080/"
        },
        "id": "YqUOQUkhG2M1",
        "outputId": "34cb65b2-e893-45ae-828a-75e79b767e12"
      },
      "execution_count": null,
      "outputs": [
        {
          "output_type": "stream",
          "name": "stdout",
          "text": [
            "fl\n"
          ]
        }
      ]
    },
    {
      "cell_type": "code",
      "source": [],
      "metadata": {
        "id": "7gEgcJ7JD2V9"
      },
      "execution_count": null,
      "outputs": []
    },
    {
      "cell_type": "markdown",
      "source": [
        "35. Write a program to check if a given number is a perfect square."
      ],
      "metadata": {
        "id": "yER1O2GKG-sX"
      }
    },
    {
      "cell_type": "code",
      "source": [
        "def is_perfect_square(num):\n",
        "    if num < 0:\n",
        "        return False\n",
        "\n",
        "    left = 0\n",
        "    right = num\n",
        "\n",
        "    while left <= right:\n",
        "        mid = (left + right) // 2\n",
        "        square = mid * mid\n",
        "\n",
        "        if square == num:\n",
        "            return True\n",
        "        elif square < num:\n",
        "            left = mid + 1\n",
        "        else:\n",
        "            right = mid - 1\n",
        "\n",
        "    return False\n",
        "\n",
        "num = 16\n",
        "print(is_perfect_square(num))\n",
        "\n",
        "num = 14\n",
        "print(is_perfect_square(num))"
      ],
      "metadata": {
        "id": "17_j6hEiD2Po",
        "colab": {
          "base_uri": "https://localhost:8080/"
        },
        "outputId": "95cf8d03-07a7-4d11-ca82-597cb75f312d"
      },
      "execution_count": 1,
      "outputs": [
        {
          "output_type": "stream",
          "name": "stdout",
          "text": [
            "True\n",
            "False\n"
          ]
        }
      ]
    },
    {
      "cell_type": "code",
      "source": [],
      "metadata": {
        "id": "B83huYnJRP1D"
      },
      "execution_count": null,
      "outputs": []
    },
    {
      "cell_type": "markdown",
      "source": [
        "\n",
        "36. Implement a function to calculate the product of all elements in a list"
      ],
      "metadata": {
        "id": "vd8jnPvKHEvH"
      }
    },
    {
      "cell_type": "code",
      "source": [
        "def product(l):\n",
        "  product_sum=1\n",
        "  for i in l:\n",
        "    product_sum *= i\n",
        "  return product_sum\n",
        "\n",
        "l=[1,2,3,4]\n",
        "print(product(l))"
      ],
      "metadata": {
        "id": "QbOf0qI4HFRb",
        "colab": {
          "base_uri": "https://localhost:8080/"
        },
        "outputId": "28291903-e415-4845-c22f-7224f3267dc1"
      },
      "execution_count": null,
      "outputs": [
        {
          "output_type": "stream",
          "name": "stdout",
          "text": [
            "24\n"
          ]
        }
      ]
    },
    {
      "cell_type": "code",
      "source": [
        "from functools import reduce\n",
        "\n",
        "def product_of_elements(lst):\n",
        "    return reduce(lambda x, y: x * y, lst)\n",
        "\n",
        "# Test\n",
        "numbers = [2, 3, 4, 5]\n",
        "result = product_of_elements(numbers)\n",
        "print(result)"
      ],
      "metadata": {
        "colab": {
          "base_uri": "https://localhost:8080/"
        },
        "id": "UuzfCqyWOWXW",
        "outputId": "533ca86d-4727-43c5-8083-f36847e50fba"
      },
      "execution_count": null,
      "outputs": [
        {
          "output_type": "stream",
          "name": "stdout",
          "text": [
            "120\n"
          ]
        }
      ]
    },
    {
      "cell_type": "code",
      "source": [],
      "metadata": {
        "id": "njWMWM7MOe32"
      },
      "execution_count": null,
      "outputs": []
    },
    {
      "cell_type": "markdown",
      "source": [
        "37. Write a Python program to reverse the order of words in a sentence while preserving the word order."
      ],
      "metadata": {
        "id": "jfiTgjN2HKyB"
      }
    },
    {
      "cell_type": "code",
      "source": [
        "def reverse(s):\n",
        "  s=s.split()\n",
        "\n",
        "  return \" \".join(s[::-1])\n",
        "\n",
        "s=\"Hello Word\"\n",
        "print(reverse(s))"
      ],
      "metadata": {
        "id": "5NmW6WpGHGB_",
        "colab": {
          "base_uri": "https://localhost:8080/"
        },
        "outputId": "77eaa1d0-e7da-423f-dcd7-7a08fda74fe6"
      },
      "execution_count": null,
      "outputs": [
        {
          "output_type": "stream",
          "name": "stdout",
          "text": [
            "Word Hello\n"
          ]
        }
      ]
    },
    {
      "cell_type": "code",
      "source": [],
      "metadata": {
        "id": "5KpMRnl1HF42"
      },
      "execution_count": null,
      "outputs": []
    },
    {
      "cell_type": "markdown",
      "source": [
        "38. Implement a function to find the missing number in a given list of consecutive numbers."
      ],
      "metadata": {
        "id": "k8SPSmYQQNHz"
      }
    },
    {
      "cell_type": "code",
      "source": [
        "def missing(l):\n",
        "  n=len(l)\n",
        "  for i in range(1,n):\n",
        "    if i not in l:\n",
        "      return \"missing number: {}\".format(i)\n",
        "\n",
        "l=[1,2,3,5,6]\n",
        "print(missing(l))"
      ],
      "metadata": {
        "colab": {
          "base_uri": "https://localhost:8080/"
        },
        "id": "8jw6aBrZQMsl",
        "outputId": "e16cc003-0b81-4fc2-f356-31c646a9ba83"
      },
      "execution_count": null,
      "outputs": [
        {
          "output_type": "stream",
          "name": "stdout",
          "text": [
            "missing number: 4\n"
          ]
        }
      ]
    },
    {
      "cell_type": "code",
      "source": [],
      "metadata": {
        "id": "1XAOOzh6QMkn"
      },
      "execution_count": null,
      "outputs": []
    },
    {
      "cell_type": "markdown",
      "source": [
        "\n",
        "39. Write a program to find the sum of digits of a given number."
      ],
      "metadata": {
        "id": "Uwm04lyjRpkz"
      }
    },
    {
      "cell_type": "code",
      "source": [
        "def sum(d):\n",
        "  d=str(d)\n",
        "  sum=0\n",
        "  for i in d:\n",
        "    sum += int(i)\n",
        "  return sum\n",
        "\n",
        "d=1235\n",
        "print(sum(d))"
      ],
      "metadata": {
        "id": "YZqdvRmhRp9G",
        "colab": {
          "base_uri": "https://localhost:8080/"
        },
        "outputId": "701eeaca-d564-48d6-8414-2735ec91e6aa"
      },
      "execution_count": 11,
      "outputs": [
        {
          "output_type": "stream",
          "name": "stdout",
          "text": [
            "11\n"
          ]
        }
      ]
    },
    {
      "cell_type": "code",
      "source": [],
      "metadata": {
        "id": "cIv6rRln8UqU"
      },
      "execution_count": null,
      "outputs": []
    },
    {
      "cell_type": "markdown",
      "source": [
        "40. Implement a function to check if a given string is a valid palindrome considering case sensitivity."
      ],
      "metadata": {
        "id": "Ni1H50gaRyCN"
      }
    },
    {
      "cell_type": "code",
      "source": [
        "def is_valid_palindrome(s):\n",
        "\n",
        "    s = ''.join(c.lower() for c in s if c.isalnum())\n",
        "\n",
        "    return s == s[::-1]\n",
        "\n",
        "string = \"A man, a plan, a canal: Panama\"\n",
        "result = is_valid_palindrome(string)\n",
        "print(\"Is Valid Palindrome:\", result)"
      ],
      "metadata": {
        "id": "0LkQ0Y1zRyaa",
        "colab": {
          "base_uri": "https://localhost:8080/"
        },
        "outputId": "a6a3ad80-e0eb-4b29-f2df-915fdf32023a"
      },
      "execution_count": 25,
      "outputs": [
        {
          "output_type": "stream",
          "name": "stdout",
          "text": [
            "Is Valid Palindrome: True\n"
          ]
        }
      ]
    },
    {
      "cell_type": "code",
      "source": [],
      "metadata": {
        "id": "Rnl7VezwRy4o"
      },
      "execution_count": null,
      "outputs": []
    },
    {
      "cell_type": "markdown",
      "source": [
        "41. Write a Python program to find the smallest missing positive integer in a list."
      ],
      "metadata": {
        "id": "4qxE3chlR69s"
      }
    },
    {
      "cell_type": "code",
      "source": [
        "def find_smallest_missing_positive(nums):\n",
        "    n = len(nums)\n",
        "    j = 0\n",
        "    for i in range(n):\n",
        "        if nums[i] > 0:\n",
        "            nums[i], nums[j] = nums[j], nums[i]\n",
        "            j += 1\n",
        "    for i in range(j):\n",
        "        num = abs(nums[i])\n",
        "        if num <= j:\n",
        "            nums[num - 1] = -abs(nums[num - 1])\n",
        "    for i in range(j):\n",
        "        if nums[i] > 0:\n",
        "            return i + 1\n",
        "\n",
        "    return j + 1\n",
        "\n",
        "nums = [3, 4, -1, 1]\n",
        "result = find_smallest_missing_positive(nums)\n",
        "print(\"Smallest Missing Positive Integer:\", result)"
      ],
      "metadata": {
        "colab": {
          "base_uri": "https://localhost:8080/"
        },
        "id": "n6-63aLSHJq6",
        "outputId": "a5968264-2b38-411d-f30e-1eb8bdea94e6"
      },
      "execution_count": 29,
      "outputs": [
        {
          "output_type": "stream",
          "name": "stdout",
          "text": [
            "Smallest Missing Positive Integer: 2\n"
          ]
        }
      ]
    },
    {
      "cell_type": "code",
      "source": [],
      "metadata": {
        "id": "JwjxlYA7R74i"
      },
      "execution_count": null,
      "outputs": []
    },
    {
      "cell_type": "markdown",
      "source": [
        "\n",
        "42. Implement a function to find the longest palindrome substring in a given string."
      ],
      "metadata": {
        "id": "iczQ5DurSCzU"
      }
    },
    {
      "cell_type": "code",
      "source": [
        "def longest_palindrome(s):\n",
        "    if not s:\n",
        "        return \"\"\n",
        "\n",
        "    n = len(s)\n",
        "    longest = \"\"\n",
        "\n",
        "    for i in range(n):\n",
        "        for j in range(i, n):\n",
        "            substring = s[i:j+1]\n",
        "            if substring == substring[::-1] and len(substring) > len(longest):\n",
        "                longest = substring\n",
        "\n",
        "    return longest\n",
        "\n",
        "s = \"babad\"\n",
        "result = longest_palindrome(s)\n",
        "print(\"Longest Palindrome Substring:\", result)"
      ],
      "metadata": {
        "id": "RNC_iVBmSDQh",
        "colab": {
          "base_uri": "https://localhost:8080/"
        },
        "outputId": "ca4d7213-f9fa-4645-d8f1-16f03d16b9b1"
      },
      "execution_count": 20,
      "outputs": [
        {
          "output_type": "stream",
          "name": "stdout",
          "text": [
            "Longest Palindrome Substring: bab\n"
          ]
        }
      ]
    },
    {
      "cell_type": "code",
      "source": [],
      "metadata": {
        "id": "k6U4I1noSEeo"
      },
      "execution_count": null,
      "outputs": []
    },
    {
      "cell_type": "markdown",
      "source": [
        "43. Write a program to find the number of occurrences of a given element in a list."
      ],
      "metadata": {
        "id": "-r7sQHANSKSo"
      }
    },
    {
      "cell_type": "code",
      "source": [
        "def ele(l):\n",
        "  occu={}\n",
        "  for i in l:\n",
        "    if i not in occu:\n",
        "      occu[i] = 1\n",
        "    else:\n",
        "      occu[i] += 1\n",
        "  return occu\n",
        "\n",
        "l=[1,2,1,2,3,4,5,3]\n",
        "print(ele(l))"
      ],
      "metadata": {
        "colab": {
          "base_uri": "https://localhost:8080/"
        },
        "id": "2QYreJ56SEQ4",
        "outputId": "3389e1e9-f8da-42c6-9673-818a2fa0f670"
      },
      "execution_count": null,
      "outputs": [
        {
          "output_type": "stream",
          "name": "stdout",
          "text": [
            "{1: 2, 2: 2, 3: 2, 4: 1, 5: 1}\n"
          ]
        }
      ]
    },
    {
      "cell_type": "code",
      "source": [],
      "metadata": {
        "id": "WkmNHZooSEBA"
      },
      "execution_count": null,
      "outputs": []
    },
    {
      "cell_type": "markdown",
      "source": [
        "44. Implement a function to check if a given number is a perfect number."
      ],
      "metadata": {
        "id": "GTwy2XJtSQaO"
      }
    },
    {
      "cell_type": "code",
      "source": [
        "def is_perfect_number(num):\n",
        "    if num <= 0:\n",
        "        return False\n",
        "\n",
        "    divisor_sum = 0\n",
        "    for i in range(1, num):\n",
        "        if num % i == 0:\n",
        "            divisor_sum += i\n",
        "\n",
        "    return divisor_sum == num\n",
        "\n",
        "num = 10\n",
        "if is_perfect_number(num):\n",
        "    print(num, \"is a perfect number\")\n",
        "else:\n",
        "    print(num, \"is not a perfect number\")"
      ],
      "metadata": {
        "colab": {
          "base_uri": "https://localhost:8080/"
        },
        "id": "HY2bnrjY-VJX",
        "outputId": "9295a953-4b42-4d1f-bd19-e3d04d27dd1c"
      },
      "execution_count": 17,
      "outputs": [
        {
          "output_type": "stream",
          "name": "stdout",
          "text": [
            "10 is not a perfect number\n"
          ]
        }
      ]
    },
    {
      "cell_type": "code",
      "source": [],
      "metadata": {
        "id": "YSIcNzIICqFS"
      },
      "execution_count": null,
      "outputs": []
    },
    {
      "cell_type": "markdown",
      "source": [
        "45. Write a Python program to remove all duplicates from a string."
      ],
      "metadata": {
        "id": "VCSI-twuSXZ4"
      }
    },
    {
      "cell_type": "code",
      "source": [
        "def remove(s):\n",
        "  ans=\"\"\n",
        "  for i in s:\n",
        "    if i not in ans:\n",
        "      ans += i\n",
        "  return ans\n",
        "\n",
        "s=\"abcabcd\"\n",
        "print(remove(s))"
      ],
      "metadata": {
        "colab": {
          "base_uri": "https://localhost:8080/"
        },
        "id": "FneXqRO8SYPQ",
        "outputId": "88f1ee37-5ae3-4279-8f19-04d6f8c5add7"
      },
      "execution_count": null,
      "outputs": [
        {
          "output_type": "stream",
          "name": "stdout",
          "text": [
            "abcd\n"
          ]
        }
      ]
    },
    {
      "cell_type": "code",
      "source": [],
      "metadata": {
        "id": "wz0S8umUCqpK"
      },
      "execution_count": null,
      "outputs": []
    },
    {
      "cell_type": "markdown",
      "source": [
        "\n",
        "46. Implement a function to find the first missing positive"
      ],
      "metadata": {
        "id": "cLv7g7jITt8b"
      }
    },
    {
      "cell_type": "code",
      "source": [
        "def first_missing_positive(nums):\n",
        "    n = len(nums)\n",
        "    i = 0\n",
        "    while i < n:\n",
        "        if 0 < nums[i] <= n and nums[i] != nums[nums[i] - 1]:\n",
        "            nums[nums[i] - 1], nums[i] = nums[i], nums[nums[i] - 1]\n",
        "        else:\n",
        "            i += 1\n",
        "\n",
        "    for i in range(n):\n",
        "        if nums[i] != i + 1:\n",
        "            return i + 1\n",
        "    return n + 1\n",
        "\n",
        "nums = [-3, 4, -2, 1]\n",
        "result = first_missing_positive(nums)\n",
        "print(\"First Missing Positive:\", result)"
      ],
      "metadata": {
        "colab": {
          "base_uri": "https://localhost:8080/"
        },
        "id": "jxuF6pLFCgy2",
        "outputId": "2f87d94b-e0a2-4dd6-a6ad-80c87f8c81a8"
      },
      "execution_count": 31,
      "outputs": [
        {
          "output_type": "stream",
          "name": "stdout",
          "text": [
            "First Missing Positive: 2\n"
          ]
        }
      ]
    },
    {
      "cell_type": "code",
      "source": [],
      "metadata": {
        "id": "dVBNA-HrAna-"
      },
      "execution_count": null,
      "outputs": []
    }
  ]
}